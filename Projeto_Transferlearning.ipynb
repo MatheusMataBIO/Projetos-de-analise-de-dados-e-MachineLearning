{
  "nbformat": 4,
  "nbformat_minor": 0,
  "metadata": {
    "colab": {
      "provenance": [],
      "authorship_tag": "ABX9TyNGUUEIBFFvQPTtIjNmrWqk",
      "include_colab_link": true
    },
    "kernelspec": {
      "name": "python3",
      "display_name": "Python 3"
    },
    "language_info": {
      "name": "python"
    }
  },
  "cells": [
    {
      "cell_type": "markdown",
      "metadata": {
        "id": "view-in-github",
        "colab_type": "text"
      },
      "source": [
        "<a href=\"https://colab.research.google.com/github/MatheusMataBIO/Projetos-de-ciencias-de-dados-/blob/main/Projeto_Transferlearning.ipynb\" target=\"_parent\"><img src=\"https://colab.research.google.com/assets/colab-badge.svg\" alt=\"Open In Colab\"/></a>"
      ]
    },
    {
      "cell_type": "code",
      "execution_count": null,
      "metadata": {
        "id": "1HNXnummCp2n"
      },
      "outputs": [],
      "source": [
        "import os\n",
        "\n",
        "import random\n",
        "import tensorflow as tf\n",
        "import zipfile\n",
        "\n",
        "import matplotlib.image as mpimg\n",
        "import matplotlib.pyplot as plt\n",
        "\n",
        "from tensorflow.keras.optimizers import RMSprop\n",
        "from tensorflow.keras.preprocessing.image import ImageDataGenerator\n",
        "\n",
        "from shutil import copyfile"
      ]
    },
    {
      "cell_type": "code",
      "source": [
        "def remove_files (SOURCE):\n",
        "  print('DELETANDO OS ARQUIVOS EM '+SOURCE)\n",
        "  if os.path.exists(SOURCE):\n",
        "    if len(os.listdir(SOURCE)) > 0:\n",
        "      for filename in os.listdir(SOURCE):\n",
        "        file = SOURCE +'/'+ filename\n",
        "        os.remove(file)\n",
        "      else:\n",
        "        print('Não existem arquivos no diretório: '+SOURCE)\n",
        "    os.rmdir(SOURCE)\n",
        "  else:\n",
        "    print('Diretório :'+SOURCE+' não existe')\n",
        "\n",
        "remove_files('/tmp/cats-v-dogs/testing/cats')\n",
        "remove_files('/tmp/cats-v-dogs/testing/dogs')\n",
        "remove_files('/tmp/cats-v-dogs/training/cats')\n",
        "remove_files('/tmp/cats-v-dogs/training/dogs')\n",
        "remove_files('/tmp/cats-v-dogs/training')\n",
        "remove_files('/tmp/cats-v-dogs/testing')\n",
        "remove_files('/tmp/cats-v-dogs')\n",
        "\n",
        "remove_files('/tmp/PetImages/Cat')\n",
        "remove_files('/tmp/PetImages/Dog')\n",
        "remove_files('/tmp/PetImages')\n",
        "\n",
        "try:\n",
        "  os.mkdir('/tmp/cats-v-dogs')\n",
        "  os.mkdir('/tmp/cats-v-dogs/training')\n",
        "  os.mkdir('/tmp/cats-v-dogs/testing')\n",
        "  os.mkdir('/tmp/cats-v-dogs/training/cats')\n",
        "  os.mkdir('/tmp/cats-v-dogs/training/dogs')\n",
        "  os.mkdir('/tmp/cats-v-dogs/testing/cats')\n",
        "  os.mkdir('/tmp/cats-v-dogs/testing/dogs')\n",
        "except OSError:\n",
        "  pass"
      ],
      "metadata": {
        "colab": {
          "base_uri": "https://localhost:8080/"
        },
        "id": "z2KnA5_LDzPN",
        "outputId": "418291eb-e436-4d0d-be93-931126ae83c3"
      },
      "execution_count": null,
      "outputs": [
        {
          "output_type": "stream",
          "name": "stdout",
          "text": [
            "DELETANDO OS ARQUIVOS EM /tmp/cats-v-dogs/testing/cats\n",
            "Diretório :/tmp/cats-v-dogs/testing/cats não existe\n",
            "DELETANDO OS ARQUIVOS EM /tmp/cats-v-dogs/testing/dogs\n",
            "Diretório :/tmp/cats-v-dogs/testing/dogs não existe\n",
            "DELETANDO OS ARQUIVOS EM /tmp/cats-v-dogs/training/cats\n",
            "Diretório :/tmp/cats-v-dogs/training/cats não existe\n",
            "DELETANDO OS ARQUIVOS EM /tmp/cats-v-dogs/training/dogs\n",
            "Diretório :/tmp/cats-v-dogs/training/dogs não existe\n",
            "DELETANDO OS ARQUIVOS EM /tmp/cats-v-dogs/training\n",
            "Diretório :/tmp/cats-v-dogs/training não existe\n",
            "DELETANDO OS ARQUIVOS EM /tmp/cats-v-dogs/testing\n",
            "Diretório :/tmp/cats-v-dogs/testing não existe\n",
            "DELETANDO OS ARQUIVOS EM /tmp/cats-v-dogs\n",
            "Diretório :/tmp/cats-v-dogs não existe\n",
            "DELETANDO OS ARQUIVOS EM /tmp/PetImages/Cat\n",
            "Diretório :/tmp/PetImages/Cat não existe\n",
            "DELETANDO OS ARQUIVOS EM /tmp/PetImages/Dog\n",
            "Diretório :/tmp/PetImages/Dog não existe\n",
            "DELETANDO OS ARQUIVOS EM /tmp/PetImages\n",
            "Diretório :/tmp/PetImages não existe\n"
          ]
        }
      ]
    },
    {
      "cell_type": "code",
      "source": [
        "!echo \"download do arquivo zip de base de fotos\"\n",
        "\n",
        "!curl -L -o /tmp/cats-and-dogs.zip --progress-bar https://download.microsoft.com/download/3/E/1/3E1C3F21-ECDB-4869-8368-6DEBA77B919F/kagglecatsanddogs_5340.zip\n",
        "\n",
        "local_zip = '/tmp/cats-and-dogs.zip'\n",
        "zip_ref = zipfile.ZipFile(local_zip, 'r')\n",
        "zip_ref.extractall('/tmp')\n",
        "zip_ref.close()"
      ],
      "metadata": {
        "colab": {
          "base_uri": "https://localhost:8080/"
        },
        "id": "triL88GAEEOR",
        "outputId": "e2e74ab7-e429-4dfa-938e-f1a378328816"
      },
      "execution_count": null,
      "outputs": [
        {
          "output_type": "stream",
          "name": "stdout",
          "text": [
            "download do arquivo zip de base de fotos\n",
            "############################################################################################# 100.0%\n"
          ]
        }
      ]
    },
    {
      "cell_type": "code",
      "source": [
        "print(len(os.listdir('/tmp/PetImages/Cat')))\n",
        "print(len(os.listdir('/tmp/PetImages/Dog')))"
      ],
      "metadata": {
        "colab": {
          "base_uri": "https://localhost:8080/"
        },
        "id": "kAEX5rD8EQC_",
        "outputId": "d90bdea7-183a-40dc-aa50-a7a7ac0c7918"
      },
      "execution_count": null,
      "outputs": [
        {
          "output_type": "stream",
          "name": "stdout",
          "text": [
            "12501\n",
            "12501\n"
          ]
        }
      ]
    },
    {
      "cell_type": "code",
      "source": [
        "def split_data(SOURCE, TRAINING, TESTING, SPLIT_SIZE):\n",
        "  files = []\n",
        "  for filename in os.listdir(SOURCE):\n",
        "    file = SOURCE + filename\n",
        "    if os.path.getsize(file) > 0:\n",
        "      files.append(filename)\n",
        "    else:\n",
        "      print(filename + \"Arquivo Ignorado, tamanho zero\")\n",
        "\n",
        "  training_length = int(len(files) * SPLIT_SIZE)\n",
        "  testing_length = int(len(files) - training_length)\n",
        "  shuffled_set = random.sample(files, len(files))\n",
        "  training_set = shuffled_set[0:training_length]\n",
        "  testing_set = shuffled_set[-testing_length:]\n",
        "\n",
        "\n",
        "  for filename in training_set:\n",
        "    this_file = SOURCE + filename\n",
        "    destination = TRAINING + filename\n",
        "    copyfile(this_file, destination)\n",
        "\n",
        "  for filename2 in testing_set:\n",
        "    this_file = SOURCE + filename2\n",
        "    destination = TESTING + filename2\n",
        "    copyfile(this_file, destination)\n",
        "\n",
        "CAT_SOURCE_DIR = \"/tmp/PetImages/Cat/\"\n",
        "TRAINING_CATS_DIR = \"/tmp/cats-v-dogs/training/cats/\"\n",
        "TESTING_CATS_DIR = \"/tmp/cats-v-dogs/testing/cats/\"\n",
        "DOG_SOURCE_DIR = \"/tmp/PetImages/Dog/\"\n",
        "TRAINING_DOGS_DIR = \"/tmp/cats-v-dogs/training/dogs/\"\n",
        "TESTING_DOGS_DIR = \"/tmp/cats-v-dogs/testing/dogs/\"\n",
        "\n",
        "split_size = .9\n",
        "split_data (CAT_SOURCE_DIR, TRAINING_CATS_DIR, TESTING_CATS_DIR, split_size)\n",
        "split_data (DOG_SOURCE_DIR, TRAINING_DOGS_DIR, TESTING_DOGS_DIR, split_size)\n"
      ],
      "metadata": {
        "colab": {
          "base_uri": "https://localhost:8080/"
        },
        "id": "zEv86vIaEc2J",
        "outputId": "0d6739f6-5791-4622-f374-84029490a8a3"
      },
      "execution_count": null,
      "outputs": [
        {
          "output_type": "stream",
          "name": "stdout",
          "text": [
            "666.jpgArquivo Ignorado, tamanho zero\n",
            "11702.jpgArquivo Ignorado, tamanho zero\n"
          ]
        }
      ]
    },
    {
      "cell_type": "code",
      "source": [
        "print(len(os.listdir('/tmp/cats-v-dogs/training/cats')))\n",
        "print(len(os.listdir('/tmp/cats-v-dogs/training/dogs')))\n",
        "print(len(os.listdir('/tmp/cats-v-dogs/testing/cats')))\n",
        "print(len(os.listdir('/tmp/cats-v-dogs/testing/dogs')))\n"
      ],
      "metadata": {
        "colab": {
          "base_uri": "https://localhost:8080/"
        },
        "id": "2JQJn8DaE3tu",
        "outputId": "954e6984-a685-4f0b-ce62-e092aa98297d"
      },
      "execution_count": null,
      "outputs": [
        {
          "output_type": "stream",
          "name": "stdout",
          "text": [
            "11250\n",
            "11250\n",
            "1250\n",
            "1250\n"
          ]
        }
      ]
    },
    {
      "cell_type": "code",
      "source": [
        "model = tf.keras.models.Sequential([\n",
        "    tf.keras.layers.Conv2D(16, (3, 3), activation='relu', input_shape=(150, 150, 3)),\n",
        "    tf.keras.layers.MaxPooling2D(2, 2),\n",
        "    tf.keras.layers.Conv2D(32, (3, 3), activation='relu'),\n",
        "    tf.keras.layers.MaxPooling2D(2, 2),\n",
        "    tf.keras.layers.Conv2D(64, (3, 3), activation='relu'),\n",
        "    tf.keras.layers.MaxPooling2D(2, 2),\n",
        "    tf.keras.layers.Flatten(),\n",
        "    tf.keras.layers.Dense(512, activation='relu'),\n",
        "    tf.keras.layers.Dense(1, activation='sigmoid')\n",
        "])\n",
        "\n",
        "model.compile(optimizer=tf.keras.optimizers.Adam(learning_rate=1e-3),\n",
        "              loss=tf.keras.losses.BinaryCrossentropy(),\n",
        "              metrics=[tf.keras.metrics.BinaryAccuracy(),\n",
        "                       tf.keras.metrics.FalseNegatives()])\n"
      ],
      "metadata": {
        "id": "rxSOvcxNFBec"
      },
      "execution_count": null,
      "outputs": []
    },
    {
      "cell_type": "code",
      "source": [
        "TRAINING_DIR = '/tmp/cats-v-dogs/training/'\n",
        "train_datagen = ImageDataGenerator(rescale=1.0/255.)\n",
        "train_generator = train_datagen.flow_from_directory(TRAINING_DIR,\n",
        "                                                    batch_size=250,\n",
        "                                                    class_mode='binary',\n",
        "                                                    target_size=(150,150))\n",
        "\n",
        "\n",
        "\n",
        "VALIDATION_DIR = '/tmp/cats-v-dogs/testing/'\n",
        "validation_datagen = ImageDataGenerator(rescale=1.0/255.)\n",
        "validation_generator = train_datagen.flow_from_directory(VALIDATION_DIR,\n",
        "                                                    batch_size=250,\n",
        "                                                    class_mode='binary',\n",
        "                                                    target_size=(150,150))\n",
        "\n"
      ],
      "metadata": {
        "colab": {
          "base_uri": "https://localhost:8080/"
        },
        "id": "OanfSw0BFQ91",
        "outputId": "e4fa7aa8-8c0e-42be-9a0d-e3f1083725db"
      },
      "execution_count": null,
      "outputs": [
        {
          "output_type": "stream",
          "name": "stdout",
          "text": [
            "Found 22498 images belonging to 2 classes.\n",
            "Found 2500 images belonging to 2 classes.\n"
          ]
        }
      ]
    },
    {
      "cell_type": "code",
      "source": [
        "history = model.fit(train_generator, epochs=15, steps_per_epoch=30,\n",
        "                    validation_data=validation_generator, validation_steps=6)\n"
      ],
      "metadata": {
        "colab": {
          "base_uri": "https://localhost:8080/"
        },
        "id": "aTmSNvAAFf1J",
        "outputId": "ffb719bb-4abc-409e-e80b-9bb183073bba"
      },
      "execution_count": null,
      "outputs": [
        {
          "output_type": "stream",
          "name": "stdout",
          "text": [
            "Epoch 1/15\n",
            "30/30 [==============================] - 223s 7s/step - loss: 0.8372 - binary_accuracy: 0.5243 - false_negatives: 1658.0000 - val_loss: 0.6816 - val_binary_accuracy: 0.5573 - val_false_negatives: 592.0000\n",
            "Epoch 2/15\n",
            "30/30 [==============================] - 235s 8s/step - loss: 0.6524 - binary_accuracy: 0.6332 - false_negatives: 1434.0000 - val_loss: 0.6126 - val_binary_accuracy: 0.6760 - val_false_negatives: 199.0000\n",
            "Epoch 3/15\n",
            " 4/30 [===>..........................] - ETA: 2:52 - loss: 0.6448 - binary_accuracy: 0.6200 - false_negatives: 75.0000"
          ]
        },
        {
          "output_type": "stream",
          "name": "stderr",
          "text": [
            "/usr/local/lib/python3.10/dist-packages/PIL/TiffImagePlugin.py:858: UserWarning: Truncated File Read\n",
            "  warnings.warn(str(msg))\n"
          ]
        },
        {
          "output_type": "stream",
          "name": "stdout",
          "text": [
            "30/30 [==============================] - 226s 8s/step - loss: 0.6205 - binary_accuracy: 0.6640 - false_negatives: 1285.0000 - val_loss: 0.5642 - val_binary_accuracy: 0.7233 - val_false_negatives: 292.0000\n",
            "Epoch 4/15\n",
            "30/30 [==============================] - 222s 7s/step - loss: 0.5800 - binary_accuracy: 0.6927 - false_negatives: 1201.0000 - val_loss: 0.5586 - val_binary_accuracy: 0.7113 - val_false_negatives: 326.0000\n",
            "Epoch 5/15\n",
            "30/30 [==============================] - 229s 8s/step - loss: 0.5207 - binary_accuracy: 0.7417 - false_negatives: 1024.0000 - val_loss: 0.5257 - val_binary_accuracy: 0.7380 - val_false_negatives: 259.0000\n",
            "Epoch 6/15\n",
            "30/30 [==============================] - 227s 8s/step - loss: 0.4973 - binary_accuracy: 0.7565 - false_negatives: 960.0000 - val_loss: 0.5372 - val_binary_accuracy: 0.7313 - val_false_negatives: 326.0000\n",
            "Epoch 7/15\n",
            "30/30 [==============================] - 239s 8s/step - loss: 0.4936 - binary_accuracy: 0.7563 - false_negatives: 939.0000 - val_loss: 0.5320 - val_binary_accuracy: 0.7200 - val_false_negatives: 346.0000\n",
            "Epoch 8/15\n",
            "30/30 [==============================] - 228s 8s/step - loss: 0.4637 - binary_accuracy: 0.7805 - false_negatives: 907.0000 - val_loss: 0.4785 - val_binary_accuracy: 0.7800 - val_false_negatives: 194.0000\n",
            "Epoch 9/15\n",
            "30/30 [==============================] - 223s 7s/step - loss: 0.4254 - binary_accuracy: 0.8031 - false_negatives: 777.0000 - val_loss: 0.4661 - val_binary_accuracy: 0.7947 - val_false_negatives: 169.0000\n",
            "Epoch 10/15\n",
            "30/30 [==============================] - 241s 8s/step - loss: 0.4079 - binary_accuracy: 0.8092 - false_negatives: 749.0000 - val_loss: 0.4627 - val_binary_accuracy: 0.7840 - val_false_negatives: 100.0000\n",
            "Epoch 11/15\n",
            "30/30 [==============================] - 229s 8s/step - loss: 0.3826 - binary_accuracy: 0.8280 - false_negatives: 677.0000 - val_loss: 0.4562 - val_binary_accuracy: 0.7887 - val_false_negatives: 182.0000\n",
            "Epoch 12/15\n",
            "30/30 [==============================] - 246s 8s/step - loss: 0.3758 - binary_accuracy: 0.8357 - false_negatives: 647.0000 - val_loss: 0.4508 - val_binary_accuracy: 0.7960 - val_false_negatives: 149.0000\n",
            "Epoch 13/15\n",
            "30/30 [==============================] - 222s 7s/step - loss: 0.3651 - binary_accuracy: 0.8372 - false_negatives: 642.0000 - val_loss: 0.4346 - val_binary_accuracy: 0.7993 - val_false_negatives: 180.0000\n",
            "Epoch 14/15\n",
            "30/30 [==============================] - 225s 8s/step - loss: 0.3400 - binary_accuracy: 0.8474 - false_negatives: 601.0000 - val_loss: 0.4603 - val_binary_accuracy: 0.7960 - val_false_negatives: 188.0000\n",
            "Epoch 15/15\n",
            "30/30 [==============================] - 238s 8s/step - loss: 0.3299 - binary_accuracy: 0.8581 - false_negatives: 550.0000 - val_loss: 0.4736 - val_binary_accuracy: 0.8000 - val_false_negatives: 148.0000\n"
          ]
        }
      ]
    },
    {
      "cell_type": "code",
      "source": [
        "print(history.history)"
      ],
      "metadata": {
        "colab": {
          "base_uri": "https://localhost:8080/"
        },
        "id": "HDwEjBM2Tnz5",
        "outputId": "29a61101-f6cf-444a-8eb4-207a5bc99f2b"
      },
      "execution_count": null,
      "outputs": [
        {
          "output_type": "stream",
          "name": "stdout",
          "text": [
            "{'loss': [0.8371912240982056, 0.6524345874786377, 0.6205476522445679, 0.5799570679664612, 0.5207327604293823, 0.4973219633102417, 0.4935978651046753, 0.4637052118778229, 0.4254454970359802, 0.40786033868789673, 0.3826490044593811, 0.3757953941822052, 0.3650798201560974, 0.3400459587574005, 0.3298521935939789], 'binary_accuracy': [0.5242666602134705, 0.633235514163971, 0.6639999747276306, 0.6926666498184204, 0.7417333126068115, 0.7564684152603149, 0.7562666535377502, 0.7805333137512207, 0.8030666708946228, 0.8091999888420105, 0.828000009059906, 0.8356895446777344, 0.8371999859809875, 0.8474259972572327, 0.8581333160400391], 'false_negatives': [1658.0, 1434.0, 1285.0, 1201.0, 1024.0, 960.0, 939.0, 907.0, 777.0, 749.0, 677.0, 647.0, 642.0, 601.0, 550.0], 'val_loss': [0.6815832257270813, 0.612617015838623, 0.5642415285110474, 0.5585554242134094, 0.5256754755973816, 0.5371925234794617, 0.5320045351982117, 0.47849124670028687, 0.4661264717578888, 0.4627496600151062, 0.45621630549430847, 0.45080333948135376, 0.43456384539604187, 0.46027860045433044, 0.47363540530204773], 'val_binary_accuracy': [0.5573333501815796, 0.6759999990463257, 0.7233333587646484, 0.7113333344459534, 0.7379999756813049, 0.731333315372467, 0.7200000286102295, 0.7799999713897705, 0.7946666479110718, 0.7839999794960022, 0.7886666655540466, 0.7960000038146973, 0.7993333339691162, 0.7960000038146973, 0.800000011920929], 'val_false_negatives': [592.0, 199.0, 292.0, 326.0, 259.0, 326.0, 346.0, 194.0, 169.0, 100.0, 182.0, 149.0, 180.0, 188.0, 148.0]}\n"
          ]
        }
      ]
    },
    {
      "cell_type": "code",
      "source": [
        "%matplotlib inline\n",
        "\n",
        "acc = history.history['binary_accuracy']\n",
        "val_acc=history.history['val_binary_accuracy']\n",
        "loss=history.history['loss']\n",
        "val_loss=history.history['val_loss']\n",
        "\n",
        "epochs=range(len(acc))\n",
        "\n",
        "plt.plot(epochs, acc, 'r', 'Training Accuracy')\n",
        "plt.plot(epochs, val_acc, 'b', 'Validation Accuracy')\n",
        "plt.title('Training and Validation Accuracy')\n",
        "plt.figure()\n",
        "\n",
        "\n",
        "plt.plot(epochs, loss, 'r', 'Training Loss')\n",
        "plt.plot(epochs, val_loss, 'b', 'Validation Loss')\n",
        "plt.title('Training and Validation Loss')\n",
        "plt.figure()\n"
      ],
      "metadata": {
        "colab": {
          "base_uri": "https://localhost:8080/",
          "height": 922
        },
        "id": "6ed93KTcTwtI",
        "outputId": "0eb822a6-4d8c-470c-cf02-cfba3e9a5877"
      },
      "execution_count": null,
      "outputs": [
        {
          "output_type": "execute_result",
          "data": {
            "text/plain": [
              "<Figure size 640x480 with 0 Axes>"
            ]
          },
          "metadata": {},
          "execution_count": 14
        },
        {
          "output_type": "display_data",
          "data": {
            "text/plain": [
              "<Figure size 640x480 with 1 Axes>"
            ],
            "image/png": "[encoded data removed]"
          },
          "metadata": {}
        },
        {
          "output_type": "display_data",
          "data": {
            "text/plain": [
              "<Figure size 640x480 with 1 Axes>"
            ],
            "image/png": "[encoded data removed]"
          },
          "metadata": {}
        },
        {
          "output_type": "display_data",
          "data": {
            "text/plain": [
              "<Figure size 640x480 with 0 Axes>"
            ]
          },
          "metadata": {}
        }
      ]
    },
    {
      "cell_type": "code",
      "source": [],
      "metadata": {
        "id": "abMsYFMDT13M"
      },
      "execution_count": null,
      "outputs": []
    }
  ]
}