{
  "nbformat": 4,
  "nbformat_minor": 0,
  "metadata": {
    "colab": {
      "provenance": [],
      "authorship_tag": "ABX9TyPOfm0JfH7vb2HhnHGSjO+A",
      "include_colab_link": true
    },
    "kernelspec": {
      "name": "python3",
      "display_name": "Python 3"
    },
    "language_info": {
      "name": "python"
    }
  },
  "cells": [
    {
      "cell_type": "markdown",
      "metadata": {
        "id": "view-in-github",
        "colab_type": "text"
      },
      "source": [
        "<a href=\"https://colab.research.google.com/github/MatheusMataBIO/Projetos-de-ciencias-de-dados-/blob/main/C%C3%A1lculo_de_M%C3%A9tricas.ipynb\" target=\"_parent\"><img src=\"https://colab.research.google.com/assets/colab-badge.svg\" alt=\"Open In Colab\"/></a>"
      ]
    },
    {
      "cell_type": "markdown",
      "source": [
        "# **Cálculo de Métricas de Avaliação de Aprendizado**\n",
        "\n",
        "\n",
        "Autor: Matheus Mata\n",
        "\n",
        "Neste projeto, vamos calcular as principais métricas para avaliação de modelos de classificação de dados para Machine Learning, como a acurácia, sensibilidade (recall), especificidade, precisão e  F-score."
      ],
      "metadata": {
        "id": "6cKRLyeLC0zn"
      }
    },
    {
      "cell_type": "code",
      "source": [
        "!pip install scikit-plot"
      ],
      "metadata": {
        "colab": {
          "base_uri": "https://localhost:8080/"
        },
        "id": "zlWBX1orKhu_",
        "outputId": "03f124ec-56ac-49e8-a800-9e116c21d939"
      },
      "execution_count": 5,
      "outputs": [
        {
          "output_type": "stream",
          "name": "stdout",
          "text": [
            "Requirement already satisfied: scikit-plot in /usr/local/lib/python3.10/dist-packages (0.3.7)\n",
            "Requirement already satisfied: matplotlib>=1.4.0 in /usr/local/lib/python3.10/dist-packages (from scikit-plot) (3.7.1)\n",
            "Requirement already satisfied: scikit-learn>=0.18 in /usr/local/lib/python3.10/dist-packages (from scikit-plot) (1.2.2)\n",
            "Requirement already satisfied: scipy>=0.9 in /usr/local/lib/python3.10/dist-packages (from scikit-plot) (1.11.4)\n",
            "Requirement already satisfied: joblib>=0.10 in /usr/local/lib/python3.10/dist-packages (from scikit-plot) (1.3.2)\n",
            "Requirement already satisfied: contourpy>=1.0.1 in /usr/local/lib/python3.10/dist-packages (from matplotlib>=1.4.0->scikit-plot) (1.2.0)\n",
            "Requirement already satisfied: cycler>=0.10 in /usr/local/lib/python3.10/dist-packages (from matplotlib>=1.4.0->scikit-plot) (0.12.1)\n",
            "Requirement already satisfied: fonttools>=4.22.0 in /usr/local/lib/python3.10/dist-packages (from matplotlib>=1.4.0->scikit-plot) (4.46.0)\n",
            "Requirement already satisfied: kiwisolver>=1.0.1 in /usr/local/lib/python3.10/dist-packages (from matplotlib>=1.4.0->scikit-plot) (1.4.5)\n",
            "Requirement already satisfied: numpy>=1.20 in /usr/local/lib/python3.10/dist-packages (from matplotlib>=1.4.0->scikit-plot) (1.23.5)\n",
            "Requirement already satisfied: packaging>=20.0 in /usr/local/lib/python3.10/dist-packages (from matplotlib>=1.4.0->scikit-plot) (23.2)\n",
            "Requirement already satisfied: pillow>=6.2.0 in /usr/local/lib/python3.10/dist-packages (from matplotlib>=1.4.0->scikit-plot) (9.4.0)\n",
            "Requirement already satisfied: pyparsing>=2.3.1 in /usr/local/lib/python3.10/dist-packages (from matplotlib>=1.4.0->scikit-plot) (3.1.1)\n",
            "Requirement already satisfied: python-dateutil>=2.7 in /usr/local/lib/python3.10/dist-packages (from matplotlib>=1.4.0->scikit-plot) (2.8.2)\n",
            "Requirement already satisfied: threadpoolctl>=2.0.0 in /usr/local/lib/python3.10/dist-packages (from scikit-learn>=0.18->scikit-plot) (3.2.0)\n",
            "Requirement already satisfied: six>=1.5 in /usr/local/lib/python3.10/dist-packages (from python-dateutil>=2.7->matplotlib>=1.4.0->scikit-plot) (1.16.0)\n"
          ]
        }
      ]
    },
    {
      "cell_type": "code",
      "source": [
        "# Importando as bibliotecas necessárias\n",
        "\n",
        "from tensorflow.keras import datasets, layers, models\n",
        "import keras.api._v2.keras as keras\n",
        "import matplotlib.pyplot as plt\n",
        "import tensorflow as tf\n",
        "\n",
        "import numpy as np\n",
        "\n",
        "import seaborn as sns\n",
        "\n",
        "import pandas as pd\n",
        "\n",
        "import scikitplot as skplt\n",
        "import matplotlib.pyplot as plt"
      ],
      "metadata": {
        "id": "7s6Rkf8JDfc5"
      },
      "execution_count": 6,
      "outputs": []
    },
    {
      "cell_type": "code",
      "source": [
        "%load_ext tensorboard"
      ],
      "metadata": {
        "id": "sdqaY3jFK3PI"
      },
      "execution_count": 9,
      "outputs": []
    },
    {
      "cell_type": "code",
      "source": [
        "logdir='log'"
      ],
      "metadata": {
        "id": "bLkhBJcMbnRb"
      },
      "execution_count": 10,
      "outputs": []
    },
    {
      "cell_type": "code",
      "source": [
        "# Treinamento e tratamento das imagens\n",
        "\n",
        "(train_images, train_labels), (test_images, test_labels) = datasets.mnist.load_data()\n",
        "\n",
        "train_images = train_images.reshape((60000, 28, 28, 1))\n",
        "test_images = test_images.reshape((10000, 28, 28, 1))\n",
        "\n",
        "train_images, test_images = train_images / 255.0, test_images / 255.0\n",
        "\n",
        "classes=[0,1,2,3,4,5,6,7,8,9]"
      ],
      "metadata": {
        "colab": {
          "base_uri": "https://localhost:8080/"
        },
        "id": "HLtm8Xjgb8iH",
        "outputId": "cc354896-0c46-4d26-e6d3-20efcd79916c"
      },
      "execution_count": 11,
      "outputs": [
        {
          "output_type": "stream",
          "name": "stdout",
          "text": [
            "Downloading data from https://storage.googleapis.com/tensorflow/tf-keras-datasets/mnist.npz\n",
            "11490434/11490434 [==============================] - 0s 0us/step\n"
          ]
        }
      ]
    },
    {
      "cell_type": "code",
      "source": [
        "# Camadas do modelo convolucional\n",
        "\n",
        "model = models.Sequential()\n",
        "model.add(layers.Conv2D(32, (3, 3), activation='relu', input_shape=(28, 28, 1)))\n",
        "model.add(layers.MaxPooling2D((2, 2)))\n",
        "model.add(layers.Conv2D(64, (3, 3), activation='relu'))\n",
        "model.add(layers.MaxPooling2D((2, 2)))\n",
        "model.add(layers.Conv2D(64, (3, 3), activation='relu'))\n",
        "\n",
        "model.add(layers.Flatten())\n",
        "model.add(layers.Dense(64, activation='relu'))\n",
        "model.add(layers.Dense(10, activation='softmax'))\n",
        ""
      ],
      "metadata": {
        "id": "T8TGJCQAcnwu"
      },
      "execution_count": 12,
      "outputs": []
    },
    {
      "cell_type": "code",
      "source": [
        "tensorboard_callback = tf.keras.callbacks.TensorBoard(logdir, histogram_freq=1)"
      ],
      "metadata": {
        "id": "NFRbBDyYf-P9"
      },
      "execution_count": 13,
      "outputs": []
    },
    {
      "cell_type": "code",
      "source": [
        "# Compilação e início do treinamento\n",
        "\n",
        "model.compile(optimizer='adam',\n",
        "              loss='sparse_categorical_crossentropy',\n",
        "              metrics=['accuracy'])\n",
        "\n",
        "model.fit(x=train_images,\n",
        "            y=train_labels,\n",
        "            epochs=5,\n",
        "            validation_data=(test_images, test_labels))"
      ],
      "metadata": {
        "colab": {
          "base_uri": "https://localhost:8080/"
        },
        "id": "VSljX8etgW4_",
        "outputId": "98ac2a40-739d-4c8f-f872-15ee5d66a084"
      },
      "execution_count": 14,
      "outputs": [
        {
          "output_type": "stream",
          "name": "stdout",
          "text": [
            "Epoch 1/5\n",
            "1875/1875 [==============================] - 41s 21ms/step - loss: 0.1485 - accuracy: 0.9554 - val_loss: 0.0433 - val_accuracy: 0.9860\n",
            "Epoch 2/5\n",
            "1875/1875 [==============================] - 36s 19ms/step - loss: 0.0476 - accuracy: 0.9851 - val_loss: 0.0338 - val_accuracy: 0.9884\n",
            "Epoch 3/5\n",
            "1875/1875 [==============================] - 35s 19ms/step - loss: 0.0332 - accuracy: 0.9899 - val_loss: 0.0283 - val_accuracy: 0.9903\n",
            "Epoch 4/5\n",
            "1875/1875 [==============================] - 35s 19ms/step - loss: 0.0263 - accuracy: 0.9920 - val_loss: 0.0266 - val_accuracy: 0.9915\n",
            "Epoch 5/5\n",
            "1875/1875 [==============================] - 36s 19ms/step - loss: 0.0210 - accuracy: 0.9928 - val_loss: 0.0300 - val_accuracy: 0.9903\n"
          ]
        },
        {
          "output_type": "execute_result",
          "data": {
            "text/plain": [
              "<keras.src.callbacks.History at 0x788b53665cf0>"
            ]
          },
          "metadata": {},
          "execution_count": 14
        }
      ]
    },
    {
      "cell_type": "code",
      "source": [
        "y_true=test_labels\n",
        "\n",
        "y_pred=model.predict(test_images)\n",
        "y_pred=np.argmax(y_pred,axis=1)"
      ],
      "metadata": {
        "colab": {
          "base_uri": "https://localhost:8080/"
        },
        "id": "-ESNiqF5ikgH",
        "outputId": "18d7cc94-b40c-4030-e71c-11ace0fca231"
      },
      "execution_count": 19,
      "outputs": [
        {
          "output_type": "stream",
          "name": "stdout",
          "text": [
            "313/313 [==============================] - 2s 6ms/step\n"
          ]
        }
      ]
    },
    {
      "cell_type": "code",
      "source": [
        "classes=[0,1,2,3,4,5,6,7,8,9]\n",
        ""
      ],
      "metadata": {
        "id": "65QOrNi0i6tu"
      },
      "execution_count": 20,
      "outputs": []
    },
    {
      "cell_type": "code",
      "source": [
        "# Gerando a matriz de confusão\n",
        "\n",
        "con_mat = tf.math.confusion_matrix(labels=y_true, predictions=y_pred).numpy()\n",
        "con_mat_norm = np.around(con_mat.astype('float') / con_mat.sum(axis=1)[:, np.newaxis], decimals=2)\n",
        "\n",
        "con_mat_df = pd.DataFrame(con_mat_norm,\n",
        "                     index = classes,\n",
        "                     columns = classes)\n",
        "\n",
        "figure = plt.figure(figsize=(8, 8))\n",
        "sns.heatmap(con_mat_df, annot=True,cmap=plt.cm.Blues)\n",
        "plt.tight_layout()\n",
        "plt.ylabel('True label')\n",
        "plt.xlabel('Predicted label')\n",
        "plt.show()"
      ],
      "metadata": {
        "colab": {
          "base_uri": "https://localhost:8080/",
          "height": 826
        },
        "id": "AsSea9nDh9kt",
        "outputId": "00f79580-67c0-4fae-9e3f-367bcea8dc47"
      },
      "execution_count": 21,
      "outputs": [
        {
          "output_type": "display_data",
          "data": {
            "text/plain": [
              "<Figure size 800x800 with 2 Axes>"
            ],
            "image/png": "[encoded data removed]"
          },
          "metadata": {}
        }
      ]
    },
    {
      "cell_type": "code",
      "source": [
        "\n",
        "\n",
        "# Cálculo ds métricas\n",
        "\n",
        "FP = con_mat.sum(axis=0) - np.diag(con_mat)\n",
        "FN = con_mat.sum(axis=1) - np.diag(con_mat)\n",
        "VP = np.diag(con_mat)\n",
        "VN = con_mat.sum() - (FP + FN + VP)\n",
        "total_itens = 10000\n",
        "\n",
        "acuracia =  (VP + VN)/(FP + FN + VP + VN)\n",
        "sensibilidade = VP/(VP+FN)\n",
        "especificidade = VN/(VN+FP)\n",
        "precisao = VP/(VP+FP)\n",
        "f_score = 2 * (precisao * sensibilidade) / (precisao + sensibilidade)\n",
        "\n",
        "\n",
        "print(\"Falsos Positivos: \", FP)\n",
        "print(\"Falsos Negativos: \", FN)\n",
        "print(\"Verdadeiros Positivos: \", VP)\n",
        "print(\"Verdadeiros Negativos: \", VN)\n",
        "print (\"\\nAcuracia: \", acuracia)\n",
        "print (\"\\nSensibilidade: \", sensibilidade)\n",
        "print (\"\\nEspecificidade: \", especificidade)\n",
        "print (\"\\nPrecisão: \", precisao)\n",
        "print (\"\\nf_score: \", f_score)"
      ],
      "metadata": {
        "colab": {
          "base_uri": "https://localhost:8080/"
        },
        "id": "RlmZAEr-itoO",
        "outputId": "8f9e3ff0-afe3-4d74-be45-a5f425334eab"
      },
      "execution_count": 23,
      "outputs": [
        {
          "output_type": "stream",
          "name": "stdout",
          "text": [
            "Falsos Positivos:  [12  8 17 12  6  8  4 11 12  7]\n",
            "Falsos Negativos:  [ 4  2  2  5  5 14  8 13 14 30]\n",
            "Verdadeiros Positivos:  [ 976 1133 1030 1005  977  878  950 1015  960  979]\n",
            "Verdadeiros Negativos:  [9008 8857 8951 8978 9012 9100 9038 8961 9014 8984]\n",
            "\n",
            "Acuracia:  [0.9984 0.999  0.9981 0.9983 0.9989 0.9978 0.9988 0.9976 0.9974 0.9963]\n",
            "\n",
            "Sensibilidade:  [0.99591837 0.99823789 0.99806202 0.9950495  0.99490835 0.98430493\n",
            " 0.99164927 0.98735409 0.98562628 0.97026759]\n",
            "\n",
            "Especificidade:  [0.99866962 0.99909757 0.99810437 0.99866518 0.99933466 0.99912165\n",
            " 0.99955762 0.99877396 0.99867051 0.99922144]\n",
            "\n",
            "Precisão:  [0.98785425 0.99298861 0.98376313 0.98820059 0.99389624 0.99097065\n",
            " 0.99580713 0.98927875 0.98765432 0.99290061]\n",
            "\n",
            "f_score:  [0.99186992 0.99560633 0.99086099 0.99161322 0.99440204 0.98762655\n",
            " 0.99372385 0.98831548 0.98663926 0.98145363]\n"
          ]
        }
      ]
    }
  ]
}